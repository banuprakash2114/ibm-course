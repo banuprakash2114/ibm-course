{
 "cells": [
  {
   "cell_type": "markdown",
   "id": "1dd83be9-3e83-44d7-b24e-6d2f50c87d51",
   "metadata": {},
   "source": [
    "Data Science Tools and Ecosystem"
   ]
  },
  {
   "cell_type": "markdown",
   "id": "3294284b-78b4-4fc2-a987-1274638dc644",
   "metadata": {},
   "source": [
    "in this notebook, Data Science Tools and Ecosystem are Sumarized"
   ]
  },
  {
   "cell_type": "markdown",
   "id": "6c6402eb-ae6f-49be-b247-7b68e3592aaa",
   "metadata": {},
   "source": [
    "The DataScience Languages are:-\n",
    "1.python\n",
    "2.R\n",
    "3.SQL\n",
    "4.C++\n",
    "5.java"
   ]
  },
  {
   "cell_type": "markdown",
   "id": "f1c0ed93-4642-4533-ac3d-54d8daa1bd2c",
   "metadata": {},
   "source": [
    "some of the commonly used libraries are:-\n",
    "1.Tensorflow\n",
    "2.Numpy\n",
    "3.Scipy\n",
    "4.Pandas\n",
    "5.keras"
   ]
  },
  {
   "cell_type": "markdown",
   "id": "069205fa-7994-4e1e-96fb-5b6cc078b3f0",
   "metadata": {},
   "source": [
    "|Data Science Tools|\n",
    "|---|\n",
    "|SAS|\n",
    "|Apache Hadoop|\n",
    "|TensorFlow|"
   ]
  },
  {
   "cell_type": "markdown",
   "id": "06e1a933-b07a-4d68-9d61-4751534bc9e4",
   "metadata": {},
   "source": [
    "###Below are a few examples of evaluating arithmetic expressions in python"
   ]
  },
  {
   "cell_type": "code",
   "execution_count": 6,
   "id": "14bc8e1d-89ff-4ccf-b644-4565bb008fa3",
   "metadata": {},
   "outputs": [
    {
     "data": {
      "text/plain": [
       "17"
      ]
     },
     "execution_count": 6,
     "metadata": {},
     "output_type": "execute_result"
    }
   ],
   "source": [
    "#this is a common arithmetic example to multiply and then add integers\n",
    "(3*4)+5"
   ]
  },
  {
   "cell_type": "code",
   "execution_count": 5,
   "id": "0cd90ac5-48ee-4744-b78b-17e7dd3d27f6",
   "metadata": {},
   "outputs": [
    {
     "data": {
      "text/plain": [
       "3.3333333333333335"
      ]
     },
     "execution_count": 5,
     "metadata": {},
     "output_type": "execute_result"
    }
   ],
   "source": [
    "#this will convert 200 minutes to hours by dividing by 60\n",
    "200/60"
   ]
  },
  {
   "cell_type": "markdown",
   "id": "39d41f45-3171-4b5c-89b3-ddebf8412466",
   "metadata": {},
   "source": [
    "__0bjective__\n",
    "* List the popular languages for Data Science\n",
    "* List the Libraries languages for Data Science\n",
    "* List of well Know Data Science Tools"
   ]
  },
  {
   "cell_type": "markdown",
   "id": "82e43cc0-a1ee-4657-83b1-a0ce40461606",
   "metadata": {},
   "source": [
    "##Author\n",
    "Gourav Kumar"
   ]
  }
 ],
 "metadata": {
  "kernelspec": {
   "display_name": "Python 3 (ipykernel)",
   "language": "python",
   "name": "python3"
  },
  "language_info": {
   "codemirror_mode": {
    "name": "ipython",
    "version": 3
   },
   "file_extension": ".py",
   "mimetype": "text/x-python",
   "name": "python",
   "nbconvert_exporter": "python",
   "pygments_lexer": "ipython3",
   "version": "3.10.11"
  }
 },
 "nbformat": 4,
 "nbformat_minor": 5
}
